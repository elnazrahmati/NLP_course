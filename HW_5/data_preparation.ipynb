{
  "nbformat": 4,
  "nbformat_minor": 0,
  "metadata": {
    "colab": {
      "name": "NLP_HW_5.ipynb",
      "provenance": [],
      "collapsed_sections": []
    },
    "kernelspec": {
      "name": "python3",
      "display_name": "Python 3"
    },
    "language_info": {
      "name": "python"
    }
  },
  "cells": [
    {
      "cell_type": "code",
      "execution_count": 1,
      "metadata": {
        "colab": {
          "base_uri": "https://localhost:8080/"
        },
        "id": "egdUxunbKHjM",
        "outputId": "75c81bd2-8e47-45e1-a8ff-434b0f950544"
      },
      "outputs": [
        {
          "output_type": "stream",
          "name": "stdout",
          "text": [
            "Cloning into 'InterdialectCorpus'...\n",
            "remote: Enumerating objects: 81, done.\u001b[K\n",
            "remote: Counting objects: 100% (81/81), done.\u001b[K\n",
            "remote: Compressing objects: 100% (41/41), done.\u001b[K\n",
            "remote: Total 81 (delta 46), reused 71 (delta 39), pack-reused 0\u001b[K\n",
            "Unpacking objects: 100% (81/81), done.\n",
            "Checking out files: 100% (37/37), done.\n"
          ]
        }
      ],
      "source": [
        "! git clone https://github.com/KurdishBLARK/InterdialectCorpus.git"
      ]
    },
    {
      "cell_type": "code",
      "source": [
        "with open('/content/InterdialectCorpus/CKB-ENG/CKB-ENG.CKB_no_tag.txt') as f:\n",
        "    ku_list = f.readlines()\n",
        "ku_list = [x.strip() for x in ku_list]\n",
        "with open('/content/InterdialectCorpus/CKB-ENG/CKB-ENG.ENG_no_tag.txt') as f:\n",
        "    en_list = f.readlines()\n",
        "en_list = [x.strip() for x in en_list]\n",
        "print(ku_list[100])\n",
        "print(en_list[100])"
      ],
      "metadata": {
        "colab": {
          "base_uri": "https://localhost:8080/"
        },
        "id": "CCfrr3rUL6vQ",
        "outputId": "95177dc6-9d29-4d53-f93d-9927ca247411"
      },
      "execution_count": 2,
      "outputs": [
        {
          "output_type": "stream",
          "name": "stdout",
          "text": [
            "\"16ی ئازار هێزەکانمان لە عەفرین لە دژی خاڵێکی پشکنینی سەر بە چەتەکان چالاکیەکیان ئەنجامدا. لە ئەنجامی چالاکیەکەدا 4 چەتە کوژران.\n",
            "On March 16, HRE fighters carried out a sabotage operation against Turkish-backed mercenaries at a checkpoint in Afrin, leaving 4 of them wounded.\n"
          ]
        }
      ]
    },
    {
      "cell_type": "code",
      "source": [
        "ku_len = [len(x) for x in ku_list]\n",
        "en_len = [len(x) for x in en_list]\n",
        "min(ku_len), max(ku_len), min(en_len), max(en_len)"
      ],
      "metadata": {
        "colab": {
          "base_uri": "https://localhost:8080/"
        },
        "id": "2us4p06ZP0oF",
        "outputId": "2dbe5269-8796-472a-b416-0f38812f368c"
      },
      "execution_count": 3,
      "outputs": [
        {
          "output_type": "execute_result",
          "data": {
            "text/plain": [
              "(10, 364, 13, 469)"
            ]
          },
          "metadata": {},
          "execution_count": 3
        }
      ]
    },
    {
      "cell_type": "code",
      "source": [
        "import pandas as pd\n",
        "df = pd.DataFrame()\n",
        "df['input'] = ['en: ' + x.lower() + ' ku:' for x in en_list]\n",
        "df['output'] = ku_list\n",
        "df.head()"
      ],
      "metadata": {
        "colab": {
          "base_uri": "https://localhost:8080/",
          "height": 206
        },
        "id": "qUsdP_3nNxpC",
        "outputId": "0f06758c-fc61-47c2-9474-69e7023ed272"
      },
      "execution_count": 4,
      "outputs": [
        {
          "output_type": "execute_result",
          "data": {
            "text/plain": [
              "                                               input  \\\n",
              "0  en: while people in most parts of the world re...   \n",
              "1  en: ​​kurds and armenians lived together in th...   \n",
              "2  en: the village was burnt down three times by ...   \n",
              "3  en: the turkish state slaughtered a high numbe...   \n",
              "4  en: after the massacre, the village was comple...   \n",
              "\n",
              "                                              output  \n",
              "0  بە هۆی پەتایی کۆڕۆناوە بەشێکی زۆر لە هاووڵاتیا...  \n",
              "1  گوندی حاجیکاش شوێنی ژیانی هاوبەشی کورد و ئەرمە...  \n",
              "2  ئەو گوندە 3 جار لەلایەن دەوڵەتی تورکیاوە سوتێنرا.  \n",
              "3  دەوڵەتی تورکیا ساڵی 1930 و لەکاتی کۆمەڵکوژیی ز...  \n",
              "4   گوندەکە لە دوای ئەو کۆمەڵکوژییە بەتەواوی چۆڵکرا.  "
            ],
            "text/html": [
              "\n",
              "  <div id=\"df-10f52d63-a505-4c75-934a-023fd449ff7d\">\n",
              "    <div class=\"colab-df-container\">\n",
              "      <div>\n",
              "<style scoped>\n",
              "    .dataframe tbody tr th:only-of-type {\n",
              "        vertical-align: middle;\n",
              "    }\n",
              "\n",
              "    .dataframe tbody tr th {\n",
              "        vertical-align: top;\n",
              "    }\n",
              "\n",
              "    .dataframe thead th {\n",
              "        text-align: right;\n",
              "    }\n",
              "</style>\n",
              "<table border=\"1\" class=\"dataframe\">\n",
              "  <thead>\n",
              "    <tr style=\"text-align: right;\">\n",
              "      <th></th>\n",
              "      <th>input</th>\n",
              "      <th>output</th>\n",
              "    </tr>\n",
              "  </thead>\n",
              "  <tbody>\n",
              "    <tr>\n",
              "      <th>0</th>\n",
              "      <td>en: while people in most parts of the world re...</td>\n",
              "      <td>بە هۆی پەتایی کۆڕۆناوە بەشێکی زۆر لە هاووڵاتیا...</td>\n",
              "    </tr>\n",
              "    <tr>\n",
              "      <th>1</th>\n",
              "      <td>en: ​​kurds and armenians lived together in th...</td>\n",
              "      <td>گوندی حاجیکاش شوێنی ژیانی هاوبەشی کورد و ئەرمە...</td>\n",
              "    </tr>\n",
              "    <tr>\n",
              "      <th>2</th>\n",
              "      <td>en: the village was burnt down three times by ...</td>\n",
              "      <td>ئەو گوندە 3 جار لەلایەن دەوڵەتی تورکیاوە سوتێنرا.</td>\n",
              "    </tr>\n",
              "    <tr>\n",
              "      <th>3</th>\n",
              "      <td>en: the turkish state slaughtered a high numbe...</td>\n",
              "      <td>دەوڵەتی تورکیا ساڵی 1930 و لەکاتی کۆمەڵکوژیی ز...</td>\n",
              "    </tr>\n",
              "    <tr>\n",
              "      <th>4</th>\n",
              "      <td>en: after the massacre, the village was comple...</td>\n",
              "      <td>گوندەکە لە دوای ئەو کۆمەڵکوژییە بەتەواوی چۆڵکرا.</td>\n",
              "    </tr>\n",
              "  </tbody>\n",
              "</table>\n",
              "</div>\n",
              "      <button class=\"colab-df-convert\" onclick=\"convertToInteractive('df-10f52d63-a505-4c75-934a-023fd449ff7d')\"\n",
              "              title=\"Convert this dataframe to an interactive table.\"\n",
              "              style=\"display:none;\">\n",
              "        \n",
              "  <svg xmlns=\"http://www.w3.org/2000/svg\" height=\"24px\"viewBox=\"0 0 24 24\"\n",
              "       width=\"24px\">\n",
              "    <path d=\"M0 0h24v24H0V0z\" fill=\"none\"/>\n",
              "    <path d=\"M18.56 5.44l.94 2.06.94-2.06 2.06-.94-2.06-.94-.94-2.06-.94 2.06-2.06.94zm-11 1L8.5 8.5l.94-2.06 2.06-.94-2.06-.94L8.5 2.5l-.94 2.06-2.06.94zm10 10l.94 2.06.94-2.06 2.06-.94-2.06-.94-.94-2.06-.94 2.06-2.06.94z\"/><path d=\"M17.41 7.96l-1.37-1.37c-.4-.4-.92-.59-1.43-.59-.52 0-1.04.2-1.43.59L10.3 9.45l-7.72 7.72c-.78.78-.78 2.05 0 2.83L4 21.41c.39.39.9.59 1.41.59.51 0 1.02-.2 1.41-.59l7.78-7.78 2.81-2.81c.8-.78.8-2.07 0-2.86zM5.41 20L4 18.59l7.72-7.72 1.47 1.35L5.41 20z\"/>\n",
              "  </svg>\n",
              "      </button>\n",
              "      \n",
              "  <style>\n",
              "    .colab-df-container {\n",
              "      display:flex;\n",
              "      flex-wrap:wrap;\n",
              "      gap: 12px;\n",
              "    }\n",
              "\n",
              "    .colab-df-convert {\n",
              "      background-color: #E8F0FE;\n",
              "      border: none;\n",
              "      border-radius: 50%;\n",
              "      cursor: pointer;\n",
              "      display: none;\n",
              "      fill: #1967D2;\n",
              "      height: 32px;\n",
              "      padding: 0 0 0 0;\n",
              "      width: 32px;\n",
              "    }\n",
              "\n",
              "    .colab-df-convert:hover {\n",
              "      background-color: #E2EBFA;\n",
              "      box-shadow: 0px 1px 2px rgba(60, 64, 67, 0.3), 0px 1px 3px 1px rgba(60, 64, 67, 0.15);\n",
              "      fill: #174EA6;\n",
              "    }\n",
              "\n",
              "    [theme=dark] .colab-df-convert {\n",
              "      background-color: #3B4455;\n",
              "      fill: #D2E3FC;\n",
              "    }\n",
              "\n",
              "    [theme=dark] .colab-df-convert:hover {\n",
              "      background-color: #434B5C;\n",
              "      box-shadow: 0px 1px 3px 1px rgba(0, 0, 0, 0.15);\n",
              "      filter: drop-shadow(0px 1px 2px rgba(0, 0, 0, 0.3));\n",
              "      fill: #FFFFFF;\n",
              "    }\n",
              "  </style>\n",
              "\n",
              "      <script>\n",
              "        const buttonEl =\n",
              "          document.querySelector('#df-10f52d63-a505-4c75-934a-023fd449ff7d button.colab-df-convert');\n",
              "        buttonEl.style.display =\n",
              "          google.colab.kernel.accessAllowed ? 'block' : 'none';\n",
              "\n",
              "        async function convertToInteractive(key) {\n",
              "          const element = document.querySelector('#df-10f52d63-a505-4c75-934a-023fd449ff7d');\n",
              "          const dataTable =\n",
              "            await google.colab.kernel.invokeFunction('convertToInteractive',\n",
              "                                                     [key], {});\n",
              "          if (!dataTable) return;\n",
              "\n",
              "          const docLinkHtml = 'Like what you see? Visit the ' +\n",
              "            '<a target=\"_blank\" href=https://colab.research.google.com/notebooks/data_table.ipynb>data table notebook</a>'\n",
              "            + ' to learn more about interactive tables.';\n",
              "          element.innerHTML = '';\n",
              "          dataTable['output_type'] = 'display_data';\n",
              "          await google.colab.output.renderOutput(dataTable, element);\n",
              "          const docLink = document.createElement('div');\n",
              "          docLink.innerHTML = docLinkHtml;\n",
              "          element.appendChild(docLink);\n",
              "        }\n",
              "      </script>\n",
              "    </div>\n",
              "  </div>\n",
              "  "
            ]
          },
          "metadata": {},
          "execution_count": 4
        }
      ]
    },
    {
      "cell_type": "code",
      "source": [
        "from sklearn.model_selection import train_test_split\n",
        "df_train, temp = train_test_split(df, test_size=0.2, random_state=45)\n",
        "df_dev, df_test = train_test_split(temp, test_size=0.5, random_state=45)"
      ],
      "metadata": {
        "id": "kZAQt4TlSIKi"
      },
      "execution_count": 5,
      "outputs": []
    },
    {
      "cell_type": "code",
      "source": [
        "from google.colab import drive\n",
        "drive.mount('/content/drive')"
      ],
      "metadata": {
        "colab": {
          "base_uri": "https://localhost:8080/"
        },
        "id": "92gsRcQRUTNT",
        "outputId": "8ee62b9b-fd83-483f-8508-77861735eb06"
      },
      "execution_count": 6,
      "outputs": [
        {
          "output_type": "stream",
          "name": "stdout",
          "text": [
            "Mounted at /content/drive\n"
          ]
        }
      ]
    },
    {
      "cell_type": "code",
      "source": [
        "! mkdir /content/en_ku_data\n",
        "df_train.to_csv('/content/en_ku_data/en_ku_train.csv', index=False)\n",
        "df_dev.to_csv('/content/en_ku_data/en_ku_dev.csv', index=False)\n",
        "df_test.to_csv('/content/en_ku_data/en_ku_test.csv', index=False)\n",
        "! zip /content/en_ku_data.zip /content/en_ku_data\n",
        "! cp /content/en_ku_data.zip /content/drive/MyDrive/datasets/en_ku_data.zip"
      ],
      "metadata": {
        "colab": {
          "base_uri": "https://localhost:8080/"
        },
        "id": "zE9MxJBuVeBY",
        "outputId": "73bc51f5-01f0-4915-8663-17fc45f4d69d"
      },
      "execution_count": 7,
      "outputs": [
        {
          "output_type": "stream",
          "name": "stdout",
          "text": [
            "  adding: content/en_ku_data/ (stored 0%)\n"
          ]
        }
      ]
    },
    {
      "cell_type": "markdown",
      "source": [
        "Data link: https://drive.google.com/file/d/1PmO-wHZorQf1SQJc8ecwwRiyOsGhzVZI/view?usp=sharing "
      ],
      "metadata": {
        "id": "AoiKGWKeZiAl"
      }
    }
  ]
}