{
  "nbformat": 4,
  "nbformat_minor": 0,
  "metadata": {
    "colab": {
      "name": "political events.ipynb",
      "provenance": [],
      "collapsed_sections": []
    },
    "kernelspec": {
      "name": "python3",
      "display_name": "Python 3"
    },
    "language_info": {
      "name": "python"
    }
  },
  "cells": [
    {
      "cell_type": "code",
      "execution_count": null,
      "metadata": {
        "id": "qLaBc3nw6Yuq"
      },
      "outputs": [],
      "source": [
        "import re\n",
        "import numpy as np"
      ]
    },
    {
      "cell_type": "code",
      "source": [
        "def agreement(input):\n",
        "    key_words = r\"\\b(مذاکرات|مذاکره|مذاکره ها|توافق|توافق ها|گفت و گو|گفت‌و‌گو|گفت و‌گو|گفت‌و گو|مذاکره|توافقات|گفتگو|گفتگوها|گفتگوهای)\\b\"\n",
        "    key_verbs = r\"\\b(از سر گرفته خواهد شد|به امضاء خواهد رسید|انجام خواهد شد|صورت میگیرد|صورت خواهد گرفت|انجام میشود|انجام می‌شود|صورت میپذیرد|امضاء خواهد شد|امضاء میشود|امضاء می‌شود|موکول میشود|موکول خواهد شد|پایان می‌یابد|لغو میشود|لغو خواهد شد|ادامه پیدا میکند|ادامه پیدا خواهد کرد|ادامه دارد|ادامه دار خواهد بود|موکول شد|متوقف شد|لغو شد|پیش نرفت|امیدوار کننده نبود|توافق کردند|مذاکره کردند|توافق خواهد کرد|به توافق خواهند رسید|مذاکره خواهند کرد|گفتگو خواهند کرد|گفتگو کردند|به توافق رسید(ند|)|از سر گرفته خواهد شد|از سر گرفته میشود|از سر گرفته شد|بی نتیجه ماند|ثمر بخش بود|نتیجه ای در بر نداشت|بی نتیجه بود|بی ثمر بود|ثمر بخش بود)\\b\"\n",
        "    key_countries = r\"\\b(ایران|آمریکا|ایالات متحده|ایالات متحده آمریکا|انگلیس|بریتانیا|فرانسه|آلمان|روسیه|چین|خاورمیانه|برجام|ناتو|اتحادیه اروپا|افغانستان|اوکراین|سوئیس|ژنو|واشگنتن|تهران|نیویورک|سازمان ملل|سازمان ملل متحد|صلیب سرخ|بحرین|یمن|عراق|سوریه|طالبان|داعش|پنج به علاوه یک|1+5)\\b\"\n",
        "    parties  = f\"(بین|میان)?\\s*({key_countries}\\s*(و\\s*{key_countries}\\s*)*)\"\n",
        "    description = r\"\\b(بر سر|درمورد)\\b\"\n",
        "    names = r\"\\b(صلح|آتش بس|(های|)تحریم|اولیه|نهایی|همکاری|چندجانبه|چند جانبه|دو طرفه|مربوط به|صلح جهانی|برجام|مفاد|عهد نامه|اقتصادی|نظامی|جنگی)\\b\"\n",
        "\n",
        "    pattern_1= f\"{parties}\\s*({description}\\s*)?({names}\\s*)*{key_verbs}\"\n",
        "    pattern_2 = f\"{key_words}\\s*({names}\\s*)*({key_countries}\\s*)*{parties}?({description}\\s*)?({names}\\s*)*\"\n",
        "    pattern = f\"({pattern_1})|({pattern_2})\"\n",
        "\n",
        "    output = []\n",
        "    for m in re.finditer(pattern, input):\n",
        "        start, end = m.span()\n",
        "        output.append({'type':'گفتگو و مذاکرات و توافق', 'text':input[start:end], 'span':[start, end], 'place':'', 'time':''})\n",
        "    return output"
      ],
      "metadata": {
        "id": "seDtjyKa6toY"
      },
      "execution_count": null,
      "outputs": []
    },
    {
      "cell_type": "code",
      "source": [
        "print(agreement('گفتگوهای صلح اوکراین میان اوکراین و روسیه از سر گرفته‌ خواهد شد.'))\n",
        "print(agreement('امروز مورخ 24 فروردین 1401 مذاکرات برجام میان ایران و پنج به علاوه یک به پایان رسید و ایران و روسیه بر سر مفاد برجام به توافق رسیدند.'))\n",
        "print(agreement(\"مذاکرات چندجانبه میان اتحادیه اروپا و ایران و آمریکا درمورد برجام بی نتیجه ماند.\"))"
      ],
      "metadata": {
        "colab": {
          "base_uri": "https://localhost:8080/"
        },
        "id": "SfPgPVGcloj7",
        "outputId": "3acb5093-386a-4441-c5bd-ac6a29db4fdc"
      },
      "execution_count": null,
      "outputs": [
        {
          "output_type": "stream",
          "name": "stdout",
          "text": [
            "[{'type': 'گفتگو و مذاکرات و توافق', 'text': 'گفتگوهای صلح اوکراین میان اوکراین و روسیه ', 'span': [0, 42], 'place': '', 'time': ''}]\n",
            "[{'type': 'گفتگو و مذاکرات و توافق', 'text': 'مذاکرات برجام میان ایران و پنج به علاوه یک ', 'span': [27, 70], 'place': '', 'time': ''}, {'type': 'گفتگو و مذاکرات و توافق', 'text': ' ایران و روسیه بر سر مفاد برجام به توافق رسیدند', 'span': [85, 132], 'place': '', 'time': ''}]\n",
            "[{'type': 'گفتگو و مذاکرات و توافق', 'text': 'مذاکرات چندجانبه میان اتحادیه اروپا و ایران و آمریکا درمورد برجام ', 'span': [0, 66], 'place': '', 'time': ''}]\n"
          ]
        }
      ]
    },
    {
      "cell_type": "code",
      "source": [
        "def Contract(input):\n",
        "    starter = r\"\\b(امضاء|امضای|عقد|اجرای|انعقاد|لغو|توافق بر سر)\\b\"\n",
        "    key_words = r\"\\b(پیمان|قرارداد|عهد نامه|قطع نامه|تعهد نامه)\\b\"\n",
        "    key_verbs = r\"\\b(امضاء کردند|امضاء میکنند|امضاء خواهند کرد|به امضاء خواهند رساند|موافق هستند|منعقد کردند|منعقد خواهد شد|لغو کردند|لغو کرد|بستند|خواهند بست|موافقت کردند|موافقت کرد|به توافق رسیدند|توافق خواهند کرد|نپذیرفت|نپذیرفتند|)\\b\"\n",
        "    key_countries = r\"\\b(ایران|آمریکا|ایالات متحده|ایالات متحده آمریکا|انگلیس|بریتانیا|فرانسه|آلمان|روسیه|چین|خاورمیانه|برجام|ناتو|اتحادیه اروپا|افغانستان|اوکراین|سوئیس|ژنو|واشگنتن|تهران|نیویورک|سازمان ملل متحد|صلیب سرخ|بحرین|یمن|عراق|سوریه|طالبان|داعش|پنج به علاوه یک|1+5)\\b\"\n",
        "    parties  = f\"(بین|میان)?\\s*({key_countries}\\s*(و\\s*{key_countries}\\s*)*)\"\n",
        "    description = r\"\\b(را|بر سر|درمورد)\\b\"\n",
        "    names = r\"\\b(صلح|آتش بس|تحریم|تحریم های|اولیه|نهایی|همکاری|چندجانبه|چند جانبه|دو طرفه|مربوط به|صلح جهانی|برجام|مفاد|عهد نامه|نظامی|جنگی|اقتصادی|برون مرزی|بین المللی|منطقه ای|سازمان ملل)\\b\"\n",
        "\n",
        "    pattern_1= f\"{parties}\\s*({description}\\s*)?({key_words}\\s*)*([0-9]+\\s*)*({names}\\s*)*({description}\\s*)?{key_verbs}\"\n",
        "    pattern_2 = f\"{starter}\\s*{key_words}\\s*([0-9]+\\s*)*({names}\\s*)*{parties}?\"\n",
        "    pattern = f\"({pattern_1})|({pattern_2})\"\n",
        "\n",
        "    output = []\n",
        "    for m in re.finditer(pattern, input):\n",
        "        start, end = m.span()\n",
        "        output.append({'type':'قرار داد های رسمی', 'text':input[start:end], 'span':[start, end], 'place':'', 'time':''})\n",
        "    return output"
      ],
      "metadata": {
        "id": "kHKhjjgvQg-p"
      },
      "execution_count": 47,
      "outputs": []
    },
    {
      "cell_type": "code",
      "source": [
        "print(Contract(\"اوکراین و روسیه قطع نامه 2030 سازمان ملل را امضاء خواهند کرد.\"))\n",
        "print(Contract(\"اکثر کشور های دنیا با امضای قرارداد 2231 سازمان ملل موافق هستند.\"))"
      ],
      "metadata": {
        "colab": {
          "base_uri": "https://localhost:8080/"
        },
        "id": "OokL5Wx1Yt7f",
        "outputId": "4c519141-ec4e-4d46-f170-6ce559f509a6"
      },
      "execution_count": 48,
      "outputs": [
        {
          "output_type": "stream",
          "name": "stdout",
          "text": [
            "[{'type': 'قرار داد های رسمی', 'text': 'اوکراین و روسیه قطع نامه 2030 سازمان ملل را امضاء خواهند کرد', 'span': [0, 60], 'place': '', 'time': ''}]\n",
            "[{'type': 'قرار داد های رسمی', 'text': 'امضای قرارداد 2231 سازمان ملل ', 'span': [22, 52], 'place': '', 'time': ''}]\n"
          ]
        }
      ]
    },
    {
      "cell_type": "code",
      "source": [
        "def removal_installation(input):\n",
        "  \n",
        "    key_words = r\"\\b(عزل|نصب|استعفا|استعفای|انتخاب|استیضاح|برکناری|جایگزینی|انتصاب|کناره گیری)\\b\"\n",
        "    key_verbs = r\"\\b(استعفا|عزل|نصب|انتخاب|استیضاح|برکنار|جاگزین|منتصب|کناره گیری|تحویل)(داد|میده|می‌ده|می ده|ند|خواه|د|شد||میشو|می‌شو|می شو||)*\\b\"\n",
        "    key_positions = r\"\\b(نسخت وزیر|جمهور|ریاست|جمهوری|نخست وزیر|نخست‌وزیر|رئیس|سپاه|ارتش|ارگان|اداره|ادارات|رهبر|مقام|منصب|فرمانده|مسئولیت|کشور|جمهور|مسئول|مجلس|قوه|قضائیه|مجریه|مقننه|ملکه|پادشاه|ولیعهد|جانشین|سمت|مقام|سازمان|ملل)\\b\"\n",
        "    key_countries = r\"\\b(ایران|آمریکا|ایالات متحده|ایالات متحده آمریکا|انگلیس|بریتانیا|فرانسه|آلمان|روسیه|چین|خاورمیانه|برجام|ناتو|اتحادیه اروپا|افغانستان|اوکراین|سوئیس|ژنو|واشگنتن|تهران|نیویورک|سازمان ملل متحد|صلیب سرخ|بحرین|یمن|عراق|سوریه|طالبان|داعش|پنج به علاوه یک|1+5)\\b\"\n",
        "    description = r\"\\b(را|برای|به عنوان|از|خود|خویش|به)\\b\"\n",
        "\n",
        "    pattern_1= f\"{key_words}\\s*({key_positions}\\s*)+({key_countries}\\s*)*({description}\\s*)*({key_countries}\\s*)*({description}\\s*)*\"\n",
        "    pattern_2 = f\"({key_positions}\\s*)+({key_countries}\\s*)*({description}\\s*)*({key_positions}\\s*)*({key_countries}\\s*)*({description}\\s*)*({key_verbs}\\s*)*\"\n",
        "    pattern = f\"({pattern_1})|({pattern_2})\"\n",
        "\n",
        "    output = []\n",
        "    for m in re.finditer(pattern, input):\n",
        "        start, end = m.span()\n",
        "        output.append({'type':'عزل و نصب و استعفا و انتخاب', 'text':input[start:end], 'span':[start, end], 'place':'', 'time':''})\n",
        "    return output"
      ],
      "metadata": {
        "id": "RQGjaQe8gGoF"
      },
      "execution_count": 63,
      "outputs": []
    },
    {
      "cell_type": "code",
      "source": [
        "print(removal_installation(\"دو هفته از استعفای نخست وزیر بریتانیا میگذرد\"))\n",
        "print(removal_installation(\"رئیس سازمان ملل از سمت خود عزل شد\"))"
      ],
      "metadata": {
        "colab": {
          "base_uri": "https://localhost:8080/"
        },
        "id": "5lozdyHWlFAE",
        "outputId": "7816cfc6-b012-4dcf-f18b-9ee3cac4f1a4"
      },
      "execution_count": 62,
      "outputs": [
        {
          "output_type": "stream",
          "name": "stdout",
          "text": [
            "[{'type': 'عزل و نصب و استعفا و انتخاب', 'text': 'استعفای نخست وزیر بریتانیا ', 'span': [11, 38], 'place': '', 'time': ''}]\n",
            "[{'type': 'عزل و نصب و استعفا و انتخاب', 'text': 'رئیس سازمان ملل از سمت خود عزل شد', 'span': [0, 33], 'place': '', 'time': ''}]\n"
          ]
        }
      ]
    }
  ]
}
