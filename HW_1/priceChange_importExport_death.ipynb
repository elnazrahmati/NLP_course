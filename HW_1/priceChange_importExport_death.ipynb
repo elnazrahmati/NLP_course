{
  "nbformat": 4,
  "nbformat_minor": 0,
  "metadata": {
    "colab": {
      "name": "NLP_HW_1.ipynb",
      "provenance": [],
      "collapsed_sections": []
    },
    "kernelspec": {
      "name": "python3",
      "display_name": "Python 3"
    },
    "language_info": {
      "name": "python"
    }
  },
  "cells": [
    {
      "cell_type": "code",
      "execution_count": 1,
      "metadata": {
        "id": "doTAtmcUyM6F"
      },
      "outputs": [],
      "source": [
        "import re"
      ]
    },
    {
      "cell_type": "code",
      "source": [
        "def price_change(input):\n",
        "    change_infinitive = r\"\\b(افزایش|کاهش|رشد|صعود|نزول|بالا رفتن|پایین آمدن|[\\w\\u200c]+ برابر شدن)\\b\"\n",
        "    percentage_p1 = r\"\\b([\\w\\u200c]+ درصدی)\\b\"\n",
        "    value_keyword = r\"\\b(قیمت|ارزش|بها|بهای)\\b\"\n",
        "    products = r\"([\\w\\u200c]+((، [\\w\\u200c]+)*( و [\\w\\u200c]+))?)\"\n",
        "    change_keyword = r\"\\b(افزایش|کاهش|صعود|گران|ارزان|نزول|بالا|پایین|[\\w\\u200c]+ برابر)\\b\"\n",
        "    change_verb = r\"\\b(یافت|می‌یابد|یافته است|کرد|می‌کند|کرده است|رفت|می‌رود|رفته‌است|آمد|می‌آید|آمده است|شد|می‌شود|شده است)\\b\"\n",
        "    percentage_p2 = r\"\\b([\\w\\u200c]+ درصد)\\b\"\n",
        "\n",
        "    pattern_1 = f\"(({change_infinitive}\\s*({percentage_p1}\\s*)?{value_keyword}\\s*)|((گران شدن|ارزان شدن)\\s*({percentage_p1}\\s*)?)){products}\"\n",
        "    pattern_2 = f\"({value_keyword}\\s*)?{products}\\s*({percentage_p2}\\s*)?{change_keyword}\\s*{change_verb}\"\n",
        "    pattern = f\"({pattern_1})|({pattern_2})\"\n",
        "\n",
        "    output = []\n",
        "    for m in re.finditer(pattern, input):\n",
        "        start, end = m.span()\n",
        "        output.append({'type':'تغییر قیمت', 'text':input[start:end], 'span':[start, end], 'place':'', 'time':''})\n",
        "    return output"
      ],
      "metadata": {
        "id": "vLNBZ3nUsBjG"
      },
      "execution_count": 2,
      "outputs": []
    },
    {
      "cell_type": "code",
      "source": [
        "print(price_change('با افزایش 50 درصدی قیمت گوشت، نان و ماست، مردم به خیابان ها سرازیر شدند. پس از این سانحه قیمت پانسمان افزایش یافت.'))\n",
        "print(price_change('با افزایش واردات گوشت، گوشت ارزان شد و مردم به خیابان ها سرازیر شدند و دو تن از هموطنان درگذشتند. پس از این سانحه، گوشت از ایران به برزیل صادر شد.'))\n",
        "print(price_change('امروز شاهد افزایش بهای طلا در صرافی‌های تهران بودیم.'))"
      ],
      "metadata": {
        "colab": {
          "base_uri": "https://localhost:8080/"
        },
        "id": "IPSgQ1ztvKP3",
        "outputId": "d53d6243-2635-476a-e192-60fdb64d9d06"
      },
      "execution_count": 3,
      "outputs": [
        {
          "output_type": "stream",
          "name": "stdout",
          "text": [
            "[{'type': 'تغییر قیمت', 'text': 'افزایش 50 درصدی قیمت گوشت، نان و ماست', 'span': [3, 40], 'place': '', 'time': ''}, {'type': 'تغییر قیمت', 'text': 'قیمت پانسمان افزایش یافت', 'span': [89, 113], 'place': '', 'time': ''}]\n",
            "[{'type': 'تغییر قیمت', 'text': 'گوشت ارزان شد', 'span': [23, 36], 'place': '', 'time': ''}]\n",
            "[{'type': 'تغییر قیمت', 'text': 'افزایش بهای طلا', 'span': [11, 26], 'place': '', 'time': ''}]\n"
          ]
        }
      ]
    },
    {
      "cell_type": "code",
      "source": [
        "def import_export(input):\n",
        "    change_keywords = r\"\\b(افزایش|کاهش|صعود|نزول|بالا رفتن|پایین آمدن|[\\w\\u200c]+ برابر)\\b\"\n",
        "    inex_infinitive = r\"\\b(واردات|صادرات|وارد کردن|صادر کردن)\\b\"\n",
        "    adjectives = r\"\\b(بی رویه|ناکافی|بیش از اندازه)\\b\"\n",
        "    products = r\"([\\w\\u200c]+((، [\\w\\u200c]+)*( و [\\w\\u200c]+))?)\"\n",
        "    sord = r\"\\b((از|به)\\s*[\\w\\u200c]+)\\s*\\b\"\n",
        "    inex_keywords = r\"\\b(صادر|وارد)\\b\"\n",
        "    inex_verbs = r\"\\b(شد|شدند|می‌شود|می‌شوند|شده است|شده‌اند|کرد|کردند|می‌کند|می‌کنند|کرده است|کرده‌اند)\\b\"\n",
        "\n",
        "    pattern_1 = f\"({change_keywords}\\s*)?{inex_infinitive}\\s*({adjectives}\\s*)?{products}(\\s*{sord})*\"\n",
        "    pattern_2 = f\"{products}\\s*(را)?\\s*({sord})*\\s*{inex_keywords}\\s*{inex_verbs}\"\n",
        "    pattern = f\"({pattern_1})|({pattern_2})\"\n",
        "\n",
        "    output = []\n",
        "    for m in re.finditer(pattern, input):\n",
        "        start, end = m.span()\n",
        "        output.append({'type':'واردات و صادرات', 'text':input[start:end], 'span':[start, end], 'place':'', 'time':''})\n",
        "    return output"
      ],
      "metadata": {
        "id": "ARbJKYC1xS2O"
      },
      "execution_count": 4,
      "outputs": []
    },
    {
      "cell_type": "code",
      "source": [
        "print(import_export('با افزایش واردات گوشت، گوشت ارزان شد و مردم به خیابان ها سرازیر شدند و دو تن از هموطنان درگذشتند. پس از این سانحه، گوشت از ایران به برزیل صادر شد..'))\n",
        "print(import_export('به علت خشکسالی در سال آینده شاهد افزایش واردات میوه و تره‌بار خواهیم بود.'))"
      ],
      "metadata": {
        "colab": {
          "base_uri": "https://localhost:8080/"
        },
        "id": "kDD_TZKMFWfI",
        "outputId": "f93894bc-a259-4743-8116-df11bddb45bb"
      },
      "execution_count": 5,
      "outputs": [
        {
          "output_type": "stream",
          "name": "stdout",
          "text": [
            "[{'type': 'واردات و صادرات', 'text': 'افزایش واردات گوشت', 'span': [3, 21], 'place': '', 'time': ''}, {'type': 'واردات و صادرات', 'text': 'گوشت از ایران به برزیل صادر شد', 'span': [115, 145], 'place': '', 'time': ''}]\n",
            "[{'type': 'واردات و صادرات', 'text': 'افزایش واردات میوه و تره\\u200cبار', 'span': [33, 61], 'place': '', 'time': ''}]\n"
          ]
        }
      ]
    },
    {
      "cell_type": "code",
      "source": [
        "def death(input):\n",
        "    death_infinitive = r\"\\b(وفات|مرگ|فوت|درگذشت|شهادت|عروج|جان باختن|کشته شدن|به قتل رسیدن|از دست رفتن)\\b\"\n",
        "    death_verb = r\"\\b(فوت کرد|مرد|درگذشت|به شهادت رسید|شهید شد|به دیار باقی شتافت|جان باخت|جان به جان آفرین تسلیم کرد|کشته شد|به قتل رسید|دار فانی را وداع گفت|به دیدار حق شتافت|را از دست دادیم)(ند)?\\b\"\n",
        "    people = r\"([\\w\\u200c]+ تن|[\\w\\u200c]+ نفر)\\s*(از [\\w\\u200c]+)?\"\n",
        "    description = r\"\\b(امام|شهید|آقای|خانم|آیت‌الله)\\b\"\n",
        "    prayers = r\"\\b(رحم الله علیه|علیه السلام)\\b\"\n",
        "    death_cause = r\"\\b(در اثر|بر اثر|به دلیل|به سبب|پس از)\\b[\\w\\u200c\\s]+\"\n",
        "    names = r\"[\\w\\u200c][\\w\\u200c][\\w\\u200c]+\"\n",
        "\n",
        "    pattern_1 = f\"{death_infinitive}\\s*(({description}\\s*)?{names}(\\s*{prayers})?|{people})(\\s*{death_cause})?\"\n",
        "    pattern_2 = f\"(({description}\\s*)?{names}\\s*({prayers})?|{people})(\\s*{death_cause})?\\s*{death_verb}\"\n",
        "    pattern = f\"({pattern_1})|({pattern_2})\"\n",
        "\n",
        "    output = []\n",
        "    for m in re.finditer(pattern, input):\n",
        "        start, end = m.span()\n",
        "        output.append({'type':'مرگ', 'text':input[start:end], 'span':[start, end], 'place':'', 'time':''})\n",
        "    return output"
      ],
      "metadata": {
        "id": "J13Th4jYyRT1"
      },
      "execution_count": 38,
      "outputs": []
    },
    {
      "cell_type": "code",
      "source": [
        "print(death('با افزایش واردات گوشت، گوشت ارزان شد و مردم به خیابان ها سرازیر شدند و در همهمه دو تن از هموطنان درگذشتند. پس از این سانحه، گوشت از ایران به برزیل صادر شد..'))\n",
        "print(death('امروز بیست دی ماه مصادف با درگذشت امیرکبیر است.'))\n",
        "print(death('پروین پس از دوره‌ی طولانی بیماری درگذشت.'))"
      ],
      "metadata": {
        "colab": {
          "base_uri": "https://localhost:8080/"
        },
        "id": "rMwp8fG2BXn4",
        "outputId": "6cde5d5d-e772-4d06-e569-ec4a096a4b04"
      },
      "execution_count": 41,
      "outputs": [
        {
          "output_type": "stream",
          "name": "stdout",
          "text": [
            "[{'type': 'مرگ', 'text': 'دو تن از هموطنان درگذشتند', 'span': [80, 105], 'place': '', 'time': ''}]\n",
            "[{'type': 'مرگ', 'text': 'درگذشت امیرکبیر', 'span': [27, 42], 'place': '', 'time': ''}]\n",
            "[{'type': 'مرگ', 'text': 'پروین پس از دوره\\u200cی طولانی بیماری درگذشت', 'span': [0, 39], 'place': '', 'time': ''}]\n"
          ]
        }
      ]
    }
  ]
}